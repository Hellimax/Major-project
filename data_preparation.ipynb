{
 "cells": [
  {
   "cell_type": "code",
   "execution_count": 8,
   "id": "499ec178",
   "metadata": {},
   "outputs": [],
   "source": [
    "from PIL import Image, ImageChops"
   ]
  },
  {
   "cell_type": "code",
   "execution_count": 9,
   "id": "3cd2887e",
   "metadata": {},
   "outputs": [],
   "source": [
    "import os"
   ]
  },
  {
   "cell_type": "code",
   "execution_count": 23,
   "id": "aa58bc1f",
   "metadata": {},
   "outputs": [],
   "source": [
    "path = \"/home/hellimaxpc/Downloads/DevanagariHandwrittenCharacterDataset/Train/\"\n",
    "folder_list = list(os.walk(path))[0][1]"
   ]
  },
  {
   "cell_type": "code",
   "execution_count": 10,
   "id": "3a78bda7",
   "metadata": {},
   "outputs": [],
   "source": [
    "img = Image.open(\"/home/hellimaxpc/Downloads/DevanagariHandwrittenCharacterDataset/Train/character_1_ka/1340.png\")"
   ]
  },
  {
   "cell_type": "code",
   "execution_count": 12,
   "id": "f3a00229",
   "metadata": {},
   "outputs": [],
   "source": [
    "img = ImageChops.invert(img)"
   ]
  },
  {
   "cell_type": "code",
   "execution_count": 15,
   "id": "17e15bc7",
   "metadata": {},
   "outputs": [],
   "source": [
    "img.save(\"./1.png\")"
   ]
  },
  {
   "cell_type": "code",
   "execution_count": 14,
   "id": "93d9f1a9",
   "metadata": {},
   "outputs": [
    {
     "name": "stdout",
     "output_type": "stream",
     "text": [
      "/home/hellimaxpc/Major-project\r\n"
     ]
    }
   ],
   "source": [
    "!pwd"
   ]
  },
  {
   "cell_type": "code",
   "execution_count": 17,
   "id": "28978078",
   "metadata": {},
   "outputs": [],
   "source": [
    "folder_list.sort()"
   ]
  },
  {
   "cell_type": "code",
   "execution_count": 24,
   "id": "3b514fd9",
   "metadata": {},
   "outputs": [
    {
     "data": {
      "text/plain": [
       "['character_33_ha',\n",
       " 'character_27_ra',\n",
       " 'character_15_adna',\n",
       " 'character_10_yna',\n",
       " 'character_6_cha',\n",
       " 'character_19_dha',\n",
       " 'character_9_jha',\n",
       " 'character_1_ka',\n",
       " 'character_3_ga',\n",
       " 'character_34_chhya',\n",
       " 'character_25_ma',\n",
       " 'character_31_petchiryakha',\n",
       " 'character_13_daa',\n",
       " 'character_2_kha',\n",
       " 'character_35_tra',\n",
       " 'character_14_dhaa',\n",
       " 'character_5_kna',\n",
       " 'character_32_patalosaw',\n",
       " 'character_26_yaw',\n",
       " 'character_4_gha',\n",
       " 'character_17_tha',\n",
       " 'character_20_na',\n",
       " 'character_23_ba',\n",
       " 'character_22_pha',\n",
       " 'character_7_chha',\n",
       " 'character_12_thaa',\n",
       " 'character_8_ja',\n",
       " 'character_29_waw',\n",
       " 'character_30_motosaw',\n",
       " 'character_21_pa',\n",
       " 'character_11_taamatar',\n",
       " 'character_28_la',\n",
       " 'character_36_gya',\n",
       " 'character_16_tabala',\n",
       " 'character_24_bha',\n",
       " 'character_18_da']"
      ]
     },
     "execution_count": 24,
     "metadata": {},
     "output_type": "execute_result"
    }
   ],
   "source": [
    "folder_list"
   ]
  },
  {
   "cell_type": "code",
   "execution_count": 22,
   "id": "a1beace6",
   "metadata": {},
   "outputs": [],
   "source": [
    "os.mkdir(\"data\")"
   ]
  },
  {
   "cell_type": "code",
   "execution_count": 31,
   "id": "69339807",
   "metadata": {},
   "outputs": [],
   "source": [
    "for i in folder_list:\n",
    "    image_list = list(os.walk(path+i))[0][2]\n",
    "    folder_name = i.split(\"_\")[1]\n",
    "    save_path = \"./data/\"+folder_name\n",
    "    os.mkdir(save_path)\n",
    "    count = 0\n",
    "    for j in image_list:\n",
    "        img = Image.open(path+i+\"/\"+j)\n",
    "        img = ImageChops.invert(img)\n",
    "        img.save(save_path+\"/\"+str(count)+\".png\")\n",
    "        count = count+1"
   ]
  },
  {
   "cell_type": "code",
   "execution_count": 13,
   "id": "0a537e32",
   "metadata": {},
   "outputs": [],
   "source": [
    "import numpy as np\n",
    "import cv2\n",
    "import matplotlib.pyplot as plt\n",
    "import matplotlib.image as mimg"
   ]
  },
  {
   "cell_type": "code",
   "execution_count": 5,
   "id": "499d0a8e",
   "metadata": {},
   "outputs": [
    {
     "data": {
      "text/plain": [
       "22"
      ]
     },
     "execution_count": 5,
     "metadata": {},
     "output_type": "execute_result"
    }
   ],
   "source": [
    "np.random.randint(10,90)"
   ]
  },
  {
   "cell_type": "code",
   "execution_count": 7,
   "id": "cba84d0b",
   "metadata": {},
   "outputs": [],
   "source": [
    "os.mkdir(\"Train_data\")"
   ]
  },
  {
   "cell_type": "code",
   "execution_count": 45,
   "id": "eb11fe0d",
   "metadata": {},
   "outputs": [],
   "source": [
    "raw_data_path = \"./data/\"\n",
    "folder_list = list(os.walk(raw_data_path))[0][1]\n",
    "for j in range(4,5):#for no: characters in image\n",
    "    for i in range(10): # no: of images\n",
    "        folder_no = np.random.randint(0,len(folder_list))\n",
    "        img_list = list(os.walk(raw_data_path+folder_list[folder_no]))[0][2]\n",
    "        img_no = np.random.randint(1,len(img_list)+1)\n",
    "        img = cv2.imread(raw_data_path+folder_list[folder_no]+\"/\"+img_list[img_no])\n",
    "        name = folder_list[folder_no]+\"_\"\n",
    "        for k in range(j-1): #for no: of characters in image\n",
    "            folder_no = np.random.randint(0,len(folder_list))\n",
    "            img_list = list(os.walk(raw_data_path+folder_list[folder_no]))[0][2]\n",
    "            img_no = np.random.randint(1,len(img_list)+1)\n",
    "            img2 = cv2.imread(raw_data_path+folder_list[folder_no]+\"/\"+img_list[img_no])\n",
    "            img = np.concatenate((img,img2),axis = 1)\n",
    "            name = name+folder_list[folder_no]+\"_\"\n",
    "        mimg.imsave(\"./Train_data/\"+name+\".png\",img)\n",
    "    #plt.imshow(img)\n",
    "    #plt.show()"
   ]
  },
  {
   "cell_type": "code",
   "execution_count": 186,
   "id": "f6f1135d",
   "metadata": {},
   "outputs": [],
   "source": [
    "import numpy as np\n",
    "import os\n",
    "import cv2\n",
    "import matplotlib.pyplot as plt\n",
    "from PIL import Image\n",
    "def noisy(noise_typ,image):\n",
    "    if noise_typ == \"gauss\":\n",
    "        row,col,ch= image.shape\n",
    "        mean = 0\n",
    "        var = 0.1\n",
    "        sigma = var**0.5\n",
    "        gauss = np.random.normal(mean,sigma,(row,col,ch))\n",
    "        gauss = gauss.reshape(row,col,ch)\n",
    "        noisy = image + gauss\n",
    "        return noisy\n",
    "    elif noise_typ == \"s&p\":\n",
    "        row,col,ch = image.shape\n",
    "        s_vs_p = 0.5\n",
    "        amount = 0.004\n",
    "        out = np.copy(image)\n",
    "        # Salt mode\n",
    "        num_salt = np.ceil(amount * image.size * s_vs_p)\n",
    "        coords = [np.random.randint(0, i - 1, int(num_salt))\n",
    "            for i in image.shape]\n",
    "        out[coords] = 1\n",
    "\n",
    "      # Pepper mode\n",
    "        num_pepper = np.ceil(amount* image.size * (1. - s_vs_p))\n",
    "        coords = [np.random.randint(0, i - 1, int(num_pepper))\n",
    "                for i in image.shape]\n",
    "        out[coords] = 0\n",
    "        return out\n",
    "    elif noise_typ == \"poisson\":\n",
    "        vals = len(np.unique(image))\n",
    "        vals = 2 ** np.ceil(np.log2(vals))\n",
    "        noisy = np.random.poisson(image * vals) / float(vals)\n",
    "        return noisy\n",
    "    elif noise_typ ==\"speckle\":\n",
    "        row,col,ch = image.shape\n",
    "        gauss = np.random.randn(row,col,ch)\n",
    "        gauss = gauss.reshape(row,col,ch)        \n",
    "        noisy = image + image * gauss\n",
    "        return noisy\n"
   ]
  },
  {
   "cell_type": "code",
   "execution_count": 4,
   "id": "0e3457ec",
   "metadata": {},
   "outputs": [],
   "source": [
    "img = cv2.imread(\"/home/hellimaxpc/Major-project/Train_data/9_35_14_6_27_5_18_29_4_16_.png\")"
   ]
  },
  {
   "cell_type": "code",
   "execution_count": 25,
   "id": "adc30387",
   "metadata": {},
   "outputs": [
    {
     "name": "stderr",
     "output_type": "stream",
     "text": [
      "Clipping input data to the valid range for imshow with RGB data ([0..1] for floats or [0..255] for integers).\n"
     ]
    },
    {
     "data": {
      "text/plain": [
       "<matplotlib.image.AxesImage at 0x7f3e38996700>"
      ]
     },
     "execution_count": 25,
     "metadata": {},
     "output_type": "execute_result"
    },
    {
     "data": {
      "image/png": "[encoded data removed]",
      "text/plain": [
       "<Figure size 432x288 with 1 Axes>"
      ]
     },
     "metadata": {
      "needs_background": "light"
     },
     "output_type": "display_data"
    }
   ],
   "source": [
    "plt.imshow(noisy(\"gauss\",img))"
   ]
  },
  {
   "cell_type": "code",
   "execution_count": 2,
   "id": "39d88c9b",
   "metadata": {},
   "outputs": [
    {
     "name": "stdout",
     "output_type": "stream",
     "text": [
      "INFO:tensorflow:Enabling eager execution\n",
      "INFO:tensorflow:Enabling v2 tensorshape\n",
      "INFO:tensorflow:Enabling resource variables\n",
      "INFO:tensorflow:Enabling tensor equality\n",
      "INFO:tensorflow:Enabling control flow v2\n"
     ]
    }
   ],
   "source": [
    "import tensorflow.keras.preprocessing.image as k_img "
   ]
  },
  {
   "cell_type": "code",
   "execution_count": 187,
   "id": "795f6911",
   "metadata": {},
   "outputs": [],
   "source": [
    "augmentor = k_img.ImageDataGenerator(\n",
    "rotation_range=3,\n",
    "height_shift_range=0.3,\n",
    "brightness_range=[0.5,1.5],\n",
    "zoom_range=0.05,\n",
    "shear_range=3\n",
    ")"
   ]
  },
  {
   "cell_type": "code",
   "execution_count": 188,
   "id": "c7f88931",
   "metadata": {},
   "outputs": [],
   "source": [
    "img = cv2.imread(\"/home/hellimaxpc/Major-project/Train_data/9_35_14_6_27_5_18_29_4_16_.png\")"
   ]
  },
  {
   "cell_type": "code",
   "execution_count": 189,
   "id": "cdb8e3f7",
   "metadata": {},
   "outputs": [],
   "source": [
    "result = augmentor.flow(img.reshape((1,img.shape[0],img.shape[1],img.shape[2])),batch_size=1)"
   ]
  },
  {
   "cell_type": "code",
   "execution_count": 190,
   "id": "8ba45111",
   "metadata": {},
   "outputs": [
    {
     "data": {
      "text/plain": [
       "<matplotlib.image.AxesImage at 0x7f23a6687970>"
      ]
     },
     "execution_count": 190,
     "metadata": {},
     "output_type": "execute_result"
    },
    {
     "data": {
      "image/png": "[encoded data removed]",
      "text/plain": [
       "<Figure size 432x288 with 1 Axes>"
      ]
     },
     "metadata": {
      "needs_background": "light"
     },
     "output_type": "display_data"
    }
   ],
   "source": [
    "plt.imshow(img)"
   ]
  },
  {
   "cell_type": "code",
   "execution_count": 191,
   "id": "3acb03db",
   "metadata": {},
   "outputs": [
    {
     "name": "stdout",
     "output_type": "stream",
     "text": [
      "(32, 320, 3)\n"
     ]
    },
    {
     "data": {
      "image/png": "[encoded data removed]",
      "text/plain": [
       "<Figure size 432x288 with 1 Axes>"
      ]
     },
     "metadata": {
      "needs_background": "light"
     },
     "output_type": "display_data"
    }
   ],
   "source": [
    "for i in range(1):\n",
    "    image = next(result)[0].astype('uint8')\n",
    "    cv2.imwrite(\"./hello.png\",image)\n",
    "    print(image.shape)\n",
    "    plt.imshow(image)"
   ]
  },
  {
   "cell_type": "code",
   "execution_count": 5,
   "id": "a6f8d826",
   "metadata": {},
   "outputs": [],
   "source": [
    "import cv2\n",
    "import matplotlib.pyplot as plt"
   ]
  },
  {
   "cell_type": "code",
   "execution_count": 49,
   "id": "f2d71ca8",
   "metadata": {},
   "outputs": [],
   "source": [
    "img = cv2.imread(\"./temp_data/10_19_10_25_5_17_15_7_35_10_4_26_15_30_.png\")"
   ]
  },
  {
   "cell_type": "code",
   "execution_count": 50,
   "id": "cb811d14",
   "metadata": {},
   "outputs": [
    {
     "data": {
      "text/plain": [
       "<matplotlib.image.AxesImage at 0x7f61e692e400>"
      ]
     },
     "execution_count": 50,
     "metadata": {},
     "output_type": "execute_result"
    },
    {
     "data": {
      "image/png": "[encoded data removed]",
      "text/plain": [
       "<Figure size 432x288 with 1 Axes>"
      ]
     },
     "metadata": {
      "needs_background": "light"
     },
     "output_type": "display_data"
    }
   ],
   "source": [
    "plt.imshow(img)"
   ]
  },
  {
   "cell_type": "code",
   "execution_count": 51,
   "id": "cdc1f192",
   "metadata": {},
   "outputs": [
    {
     "data": {
      "text/plain": [
       "(32, 448, 3)"
      ]
     },
     "execution_count": 51,
     "metadata": {},
     "output_type": "execute_result"
    }
   ],
   "source": [
    "img.shape"
   ]
  },
  {
   "cell_type": "code",
   "execution_count": 52,
   "id": "4e78af13",
   "metadata": {},
   "outputs": [
    {
     "data": {
      "text/plain": [
       "<matplotlib.image.AxesImage at 0x7f61e667ae50>"
      ]
     },
     "execution_count": 52,
     "metadata": {},
     "output_type": "execute_result"
    },
    {
     "data": {
      "image/png": "[encoded data removed]",
      "text/plain": [
       "<Figure size 432x288 with 1 Axes>"
      ]
     },
     "metadata": {
      "needs_background": "light"
     },
     "output_type": "display_data"
    }
   ],
   "source": [
    "plt.imshow(cv2.line(img,(3,5),(img.shape[1]-2,5),(0,0,0),2))"
   ]
  },
  {
   "cell_type": "code",
   "execution_count": 1,
   "id": "0dac065f",
   "metadata": {},
   "outputs": [
    {
     "name": "stdout",
     "output_type": "stream",
     "text": [
      "2021-05-26 01:36:32.068870: W tensorflow/stream_executor/platform/default/dso_loader.cc:60] Could not load dynamic library 'libcudart.so.11.0'; dlerror: libcudart.so.11.0: cannot open shared object file: No such file or directory\n",
      "2021-05-26 01:36:32.068923: I tensorflow/stream_executor/cuda/cudart_stub.cc:29] Ignore above cudart dlerror if you do not have a GPU set up on your machine.\n",
      "100 images done\n",
      "200 images done\n",
      "300 images done\n",
      "400 images done\n",
      "500 images done\n",
      "600 images done\n",
      "100 images augmented\n",
      "200 images augmented\n",
      "300 images augmented\n",
      "400 images augmented\n",
      "500 images augmented\n"
     ]
    }
   ],
   "source": [
    "!python data_genetaror.py"
   ]
  },
  {
   "cell_type": "code",
   "execution_count": 7,
   "id": "04ac4fa1",
   "metadata": {},
   "outputs": [
    {
     "data": {
      "text/plain": [
       "'33_16_21_17_33_29_26_.png'"
      ]
     },
     "execution_count": 7,
     "metadata": {},
     "output_type": "execute_result"
    }
   ],
   "source": [
    "max(list(os.walk(\"./train_data/\"))[0][2],key=len)"
   ]
  },
  {
   "cell_type": "code",
   "execution_count": 11,
   "id": "652ece52",
   "metadata": {},
   "outputs": [],
   "source": [
    "img = Image.open(\"./train_data/33_16_21_17_33_29_26_.png\")"
   ]
  },
  {
   "cell_type": "code",
   "execution_count": 13,
   "id": "7508dd94",
   "metadata": {},
   "outputs": [
    {
     "data": {
      "text/plain": [
       "(224, 32)"
      ]
     },
     "execution_count": 13,
     "metadata": {},
     "output_type": "execute_result"
    }
   ],
   "source": [
    "img.size"
   ]
  },
  {
   "cell_type": "code",
   "execution_count": 23,
   "id": "f6edbe8d",
   "metadata": {},
   "outputs": [],
   "source": [
    "import cv2\n",
    "import numpy as np"
   ]
  },
  {
   "cell_type": "code",
   "execution_count": 16,
   "id": "a65005dc",
   "metadata": {},
   "outputs": [
    {
     "data": {
      "text/plain": [
       "(32, 224, 3)"
      ]
     },
     "execution_count": 16,
     "metadata": {},
     "output_type": "execute_result"
    }
   ],
   "source": [
    "cv2.imread(\"./train_data/33_16_21_17_33_29_26_.png\").shape"
   ]
  },
  {
   "cell_type": "code",
   "execution_count": 19,
   "id": "14450e70",
   "metadata": {},
   "outputs": [],
   "source": [
    "img2 = Image.new(\"RGB\",(32,32),color=(255,255,255))"
   ]
  },
  {
   "cell_type": "code",
   "execution_count": 20,
   "id": "9e1b201c",
   "metadata": {},
   "outputs": [],
   "source": [
    "img2.save(\"./blank.png\")"
   ]
  },
  {
   "cell_type": "code",
   "execution_count": 31,
   "id": "8f1900e3",
   "metadata": {},
   "outputs": [],
   "source": [
    "img = cv2.imread(\"./train_data/10_16_8_5_.png\")"
   ]
  },
  {
   "cell_type": "code",
   "execution_count": 32,
   "id": "cd9e5e8f",
   "metadata": {},
   "outputs": [
    {
     "data": {
      "text/plain": [
       "(32, 128, 3)"
      ]
     },
     "execution_count": 32,
     "metadata": {},
     "output_type": "execute_result"
    }
   ],
   "source": [
    "img.shape"
   ]
  },
  {
   "cell_type": "code",
   "execution_count": 33,
   "id": "fe9071d6",
   "metadata": {},
   "outputs": [],
   "source": [
    "blank = cv2.imread(\"./blank.png\")"
   ]
  },
  {
   "cell_type": "code",
   "execution_count": 34,
   "id": "588d9de7",
   "metadata": {},
   "outputs": [],
   "source": [
    "while img.shape[1]!=224:\n",
    "    img = np.concatenate((img,blank),axis=1)"
   ]
  },
  {
   "cell_type": "code",
   "execution_count": 35,
   "id": "3c67434f",
   "metadata": {},
   "outputs": [
    {
     "data": {
      "text/plain": [
       "(32, 224, 3)"
      ]
     },
     "execution_count": 35,
     "metadata": {},
     "output_type": "execute_result"
    }
   ],
   "source": [
    "img.shape"
   ]
  },
  {
   "cell_type": "code",
   "execution_count": 36,
   "id": "2f2aee22",
   "metadata": {},
   "outputs": [],
   "source": [
    "import matplotlib.pyplot as plt"
   ]
  },
  {
   "cell_type": "code",
   "execution_count": 37,
   "id": "f24ad6aa",
   "metadata": {},
   "outputs": [
    {
     "data": {
      "text/plain": [
       "<matplotlib.image.AxesImage at 0x7fd76764f790>"
      ]
     },
     "execution_count": 37,
     "metadata": {},
     "output_type": "execute_result"
    },
    {
     "data": {
      "image/png": "[encoded data removed]",
      "text/plain": [
       "<Figure size 432x288 with 1 Axes>"
      ]
     },
     "metadata": {
      "needs_background": "light"
     },
     "output_type": "display_data"
    }
   ],
   "source": [
    "plt.imshow(img)"
   ]
  },
  {
   "cell_type": "code",
   "execution_count": 38,
   "id": "1217eef4",
   "metadata": {},
   "outputs": [
    {
     "data": {
      "text/plain": [
       "25"
      ]
     },
     "execution_count": 38,
     "metadata": {},
     "output_type": "execute_result"
    }
   ],
   "source": [
    "len(\"33_16_21_17_33_29_26_.png\")"
   ]
  },
  {
   "cell_type": "code",
   "execution_count": 24,
   "id": "fc8aeffe",
   "metadata": {},
   "outputs": [],
   "source": [
    "f = open(\"./Attention_ocr/data/unique_char.txt\")"
   ]
  },
  {
   "cell_type": "code",
   "execution_count": 25,
   "id": "a9740557",
   "metadata": {},
   "outputs": [],
   "source": [
    "li = f.readlines()"
   ]
  },
  {
   "cell_type": "code",
   "execution_count": 29,
   "id": "1105c31e",
   "metadata": {},
   "outputs": [],
   "source": [
    "intex_to_char = {}"
   ]
  },
  {
   "cell_type": "code",
   "execution_count": 30,
   "id": "4c3ebef6",
   "metadata": {},
   "outputs": [],
   "source": [
    "for i in range(len(li)):\n",
    "    intex_to_char.update({str(i):li[i].split()[0]})"
   ]
  },
  {
   "cell_type": "code",
   "execution_count": 31,
   "id": "445f9fcd",
   "metadata": {},
   "outputs": [
    {
     "data": {
      "text/plain": [
       "{'0': '@',\n",
       " '1': 'क',\n",
       " '2': 'ख',\n",
       " '3': 'ग',\n",
       " '4': 'घ',\n",
       " '5': 'ङ',\n",
       " '6': 'च',\n",
       " '7': 'छ',\n",
       " '8': 'ज',\n",
       " '9': 'झ',\n",
       " '10': 'ञ',\n",
       " '11': 'ट',\n",
       " '12': 'ठ',\n",
       " '13': 'ड',\n",
       " '14': 'ढ',\n",
       " '15': 'ण',\n",
       " '16': 'त',\n",
       " '17': 'थ',\n",
       " '18': 'द',\n",
       " '19': 'ध',\n",
       " '20': 'न',\n",
       " '21': 'प',\n",
       " '22': 'फ',\n",
       " '23': 'ब',\n",
       " '24': 'भ',\n",
       " '25': 'म',\n",
       " '26': 'य',\n",
       " '27': 'र',\n",
       " '28': 'ल',\n",
       " '29': 'व',\n",
       " '30': 'श',\n",
       " '31': 'ष',\n",
       " '32': 'स',\n",
       " '33': 'ह'}"
      ]
     },
     "execution_count": 31,
     "metadata": {},
     "output_type": "execute_result"
    }
   ],
   "source": [
    "intex_to_char"
   ]
  },
  {
   "cell_type": "code",
   "execution_count": 32,
   "id": "e3fde955",
   "metadata": {},
   "outputs": [],
   "source": [
    "import json"
   ]
  },
  {
   "cell_type": "code",
   "execution_count": 36,
   "id": "5dece7c1",
   "metadata": {},
   "outputs": [],
   "source": [
    "with open(\"index_to_char.json\",\"w\") as f:\n",
    "    json.dump(intex_to_char,f)"
   ]
  },
  {
   "cell_type": "code",
   "execution_count": null,
   "id": "4eeecf23",
   "metadata": {},
   "outputs": [],
   "source": []
  }
 ],
 "metadata": {
  "kernelspec": {
   "display_name": "Python 3",
   "language": "python",
   "name": "python3"
  },
  "language_info": {
   "codemirror_mode": {
    "name": "ipython",
    "version": 3
   },
   "file_extension": ".py",
   "mimetype": "text/x-python",
   "name": "python",
   "nbconvert_exporter": "python",
   "pygments_lexer": "ipython3",
   "version": "3.8.5"
  }
 },
 "nbformat": 4,
 "nbformat_minor": 5
}
