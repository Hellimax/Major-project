{
 "cells": [
  {
   "cell_type": "code",
   "execution_count": 9,
   "id": "499ec178",
   "metadata": {},
   "outputs": [],
   "source": [
    "from PIL import Image, ImageChops"
   ]
  },
  {
   "cell_type": "code",
   "execution_count": 2,
   "id": "3cd2887e",
   "metadata": {},
   "outputs": [],
   "source": [
    "import os"
   ]
  },
  {
   "cell_type": "code",
   "execution_count": 23,
   "id": "aa58bc1f",
   "metadata": {},
   "outputs": [],
   "source": [
    "path = \"/home/hellimaxpc/Downloads/DevanagariHandwrittenCharacterDataset/Train/\"\n",
    "folder_list = list(os.walk(path))[0][1]"
   ]
  },
  {
   "cell_type": "code",
   "execution_count": 10,
   "id": "3a78bda7",
   "metadata": {},
   "outputs": [],
   "source": [
    "img = Image.open(\"/home/hellimaxpc/Downloads/DevanagariHandwrittenCharacterDataset/Train/character_1_ka/1340.png\")"
   ]
  },
  {
   "cell_type": "code",
   "execution_count": 12,
   "id": "f3a00229",
   "metadata": {},
   "outputs": [],
   "source": [
    "img = ImageChops.invert(img)"
   ]
  },
  {
   "cell_type": "code",
   "execution_count": 15,
   "id": "17e15bc7",
   "metadata": {},
   "outputs": [],
   "source": [
    "img.save(\"./1.png\")"
   ]
  },
  {
   "cell_type": "code",
   "execution_count": 14,
   "id": "93d9f1a9",
   "metadata": {},
   "outputs": [
    {
     "name": "stdout",
     "output_type": "stream",
     "text": [
      "/home/hellimaxpc/Major-project\r\n"
     ]
    }
   ],
   "source": [
    "!pwd"
   ]
  },
  {
   "cell_type": "code",
   "execution_count": 17,
   "id": "28978078",
   "metadata": {},
   "outputs": [],
   "source": [
    "folder_list.sort()"
   ]
  },
  {
   "cell_type": "code",
   "execution_count": 24,
   "id": "3b514fd9",
   "metadata": {},
   "outputs": [
    {
     "data": {
      "text/plain": [
       "['character_33_ha',\n",
       " 'character_27_ra',\n",
       " 'character_15_adna',\n",
       " 'character_10_yna',\n",
       " 'character_6_cha',\n",
       " 'character_19_dha',\n",
       " 'character_9_jha',\n",
       " 'character_1_ka',\n",
       " 'character_3_ga',\n",
       " 'character_34_chhya',\n",
       " 'character_25_ma',\n",
       " 'character_31_petchiryakha',\n",
       " 'character_13_daa',\n",
       " 'character_2_kha',\n",
       " 'character_35_tra',\n",
       " 'character_14_dhaa',\n",
       " 'character_5_kna',\n",
       " 'character_32_patalosaw',\n",
       " 'character_26_yaw',\n",
       " 'character_4_gha',\n",
       " 'character_17_tha',\n",
       " 'character_20_na',\n",
       " 'character_23_ba',\n",
       " 'character_22_pha',\n",
       " 'character_7_chha',\n",
       " 'character_12_thaa',\n",
       " 'character_8_ja',\n",
       " 'character_29_waw',\n",
       " 'character_30_motosaw',\n",
       " 'character_21_pa',\n",
       " 'character_11_taamatar',\n",
       " 'character_28_la',\n",
       " 'character_36_gya',\n",
       " 'character_16_tabala',\n",
       " 'character_24_bha',\n",
       " 'character_18_da']"
      ]
     },
     "execution_count": 24,
     "metadata": {},
     "output_type": "execute_result"
    }
   ],
   "source": [
    "folder_list"
   ]
  },
  {
   "cell_type": "code",
   "execution_count": 22,
   "id": "a1beace6",
   "metadata": {},
   "outputs": [],
   "source": [
    "os.mkdir(\"data\")"
   ]
  },
  {
   "cell_type": "code",
   "execution_count": 31,
   "id": "69339807",
   "metadata": {},
   "outputs": [],
   "source": [
    "for i in folder_list:\n",
    "    image_list = list(os.walk(path+i))[0][2]\n",
    "    folder_name = i.split(\"_\")[1]\n",
    "    save_path = \"./data/\"+folder_name\n",
    "    os.mkdir(save_path)\n",
    "    count = 0\n",
    "    for j in image_list:\n",
    "        img = Image.open(path+i+\"/\"+j)\n",
    "        img = ImageChops.invert(img)\n",
    "        img.save(save_path+\"/\"+str(count)+\".png\")\n",
    "        count = count+1"
   ]
  },
  {
   "cell_type": "code",
   "execution_count": null,
   "id": "0a537e32",
   "metadata": {},
   "outputs": [],
   "source": []
  }
 ],
 "metadata": {
  "kernelspec": {
   "display_name": "Python 3",
   "language": "python",
   "name": "python3"
  },
  "language_info": {
   "codemirror_mode": {
    "name": "ipython",
    "version": 3
   },
   "file_extension": ".py",
   "mimetype": "text/x-python",
   "name": "python",
   "nbconvert_exporter": "python",
   "pygments_lexer": "ipython3",
   "version": "3.9.1"
  }
 },
 "nbformat": 4,
 "nbformat_minor": 5
}
